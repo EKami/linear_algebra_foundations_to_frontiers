{
 "cells": [
  {
   "cell_type": "markdown",
   "metadata": {},
   "source": [
    "# Week 1 assignments\n",
    "\n",
    "This notebook contains the implementation of the LAFF week 1 homework. Initially targeting the MatScript language (Matlab), I chose to use python 3 instead."
   ]
  },
  {
   "cell_type": "markdown",
   "metadata": {},
   "source": [
    "### Homework 1.5.2.1\n",
    "1/1 point (graded)\n",
    "\n",
    "Implement the function laff_copy that copies a vector into another vector. The function is defined as\n",
    "```\n",
    "function [ y_out ] = laff_copy( x, y )\n",
    "```\n",
    "where\n",
    "\n",
    "`x` and `y` must each be either an n×1 array (column vector) or a 1×n array (row vector);\n",
    "\n",
    "`y_out` must be the same kind of vector as `y` (in other words, if `y` is a column vector, so is `y_out` and if `y` is a row vector, so is `y_out`).\n",
    "\n",
    "The function should “transpose\" the vector if `x` and `y` do not have the same “shape\" (if one is a column vector and the other one is a row vector).\n",
    "\n",
    "If `x` and/or `y` are not vectors or if the size of (row or column) vector `x` does not match the size of (row or column) vector `y`, the output should be 'FAILED'."
   ]
  },
  {
   "cell_type": "code",
   "execution_count": 70,
   "metadata": {
    "collapsed": false
   },
   "outputs": [
    {
     "name": "stdout",
     "output_type": "stream",
     "text": [
      "Automatic pdb calling has been turned ON\n",
      "True\n",
      "True\n",
      "-----------------\n",
      "[[1 2 3 4 5]]\n",
      "[[1]\n",
      " [2]\n",
      " [3]\n",
      " [4]\n",
      " [5]]\n",
      "-----------------\n",
      "[[ 4]\n",
      " [ 6]\n",
      " [ 9]\n",
      " [23]]\n",
      "[[5 2 8 1]]\n"
     ]
    }
   ],
   "source": [
    "import numpy as np\n",
    "\n",
    "%pdb on\n",
    "def laff_copy(x, y):\n",
    "    '''\n",
    "        Copy one vector into another of shape y\n",
    "    '''\n",
    "    if x.shape != y.shape and x.shape != y.T.shape: # Ensure they have the same size\n",
    "        return 'FAILED'\n",
    "    else:\n",
    "        if x.shape != y.shape: # Then the copy is between a row and a column vector\n",
    "            x = numpy.copy(x.T) # Numpy.copy very important or the last test fails\n",
    "        \n",
    "        if y.shape[0] == 1: # y is a row vector\n",
    "            for i in range(y.shape[1]):\n",
    "                x[0][i] = y[0][i]\n",
    "        else:\n",
    "            for i in range(y.shape[0]):\n",
    "                x[i][0] = y[i][0]\n",
    "        return x\n",
    "    \n",
    "    \n",
    "# Tests\n",
    "x = np.ndarray(shape=(1, 4), dtype=int, buffer=np.array([5, 2, 8, 1])) # row vector\n",
    "x_2 = np.ndarray(shape=(1, 5), dtype=int, buffer=np.array([5, 8, 1, 7, 9])) # row vector\n",
    "x_3 = np.ndarray(shape=(1, 5), dtype=int, buffer=np.array([1, 2, 3, 4, 5])) # row vector\n",
    "y = np.ndarray(shape=(4, 1), dtype=int, \n",
    "               buffer=np.array([[4], # column vector\n",
    "                                [6],\n",
    "                                [9],\n",
    "                                [23]\n",
    "                                    ]))\n",
    "\n",
    "y_2 = np.ndarray(shape=(5, 1), dtype=int, \n",
    "               buffer=np.array([[4], # column vector\n",
    "                                [6],\n",
    "                                [9],\n",
    "                                [23],\n",
    "                                [2]\n",
    "                                    ]))\n",
    "\n",
    "y_3 = np.ndarray(shape=(5, 1), dtype=int, \n",
    "               buffer=np.array([[1], # column vector\n",
    "                                [2],\n",
    "                                [3],\n",
    "                                [4],\n",
    "                                [5]\n",
    "                                    ]))\n",
    "\n",
    "print(laff_copy(x, x_2) == 'FAILED')\n",
    "print(laff_copy(x, y_2) == 'FAILED')\n",
    "print('-----------------')\n",
    "print(laff_copy(x_2, x_3))\n",
    "print(laff_copy(y_2, y_3))\n",
    "print('-----------------')\n",
    "print(laff_copy(x, y))\n",
    "print(laff_copy(y, x))"
   ]
  },
  {
   "cell_type": "markdown",
   "metadata": {},
   "source": [
    "### Homework 1.5.3.1\n",
    "1/1 point (graded)\n",
    "Implement the function laff_scal that scales a vector x by a scalar α. The function is defined as\n",
    "\n",
    "```\n",
    "function [ x_out ] = laff_scal( alpha, x )\n",
    "```\n",
    "\n",
    "where\n",
    "\n",
    "`x` must be either an n×1 array (column vector) or a 1×n array (row vector);\n",
    "\n",
    "`x_out` must be the same kind of vector as x; and\n",
    "\n",
    "If `x` or alpha are not a (row or column) vector and scalar, respectively, the output should be 'FAILED'.\n",
    "\n",
    "Check your implementation with the script in  LAFF-2.0xM/Programming/Week01/test_scal.m."
   ]
  },
  {
   "cell_type": "code",
   "execution_count": null,
   "metadata": {
    "collapsed": true
   },
   "outputs": [],
   "source": []
  }
 ],
 "metadata": {
  "kernelspec": {
   "display_name": "Python (tensorflow)",
   "language": "python",
   "name": "ipytensorflow"
  },
  "language_info": {
   "codemirror_mode": {
    "name": "ipython",
    "version": 3
   },
   "file_extension": ".py",
   "mimetype": "text/x-python",
   "name": "python",
   "nbconvert_exporter": "python",
   "pygments_lexer": "ipython3",
   "version": "3.5.2"
  }
 },
 "nbformat": 4,
 "nbformat_minor": 2
}
